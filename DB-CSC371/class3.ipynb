{
    "metadata": {
        "kernelspec": {
            "name": "SQL",
            "display_name": "SQL",
            "language": "sql"
        },
        "language_info": {
            "name": "sql",
            "version": ""
        }
    },
    "nbformat_minor": 2,
    "nbformat": 4,
    "cells": [
        {
            "cell_type": "markdown",
            "source": [
                "# Class 3"
            ],
            "metadata": {
                "azdata_cell_guid": "209cb0cc-7610-4e25-8de9-f2a2e3e03d17"
            }
        },
        {
            "cell_type": "markdown",
            "source": [
                "## Create Table with Unique Key and Primary Key"
            ],
            "metadata": {
                "azdata_cell_guid": "77144e7d-7cb4-4bb8-a0a3-47024ba0b6e2"
            }
        },
        {
            "cell_type": "code",
            "source": [
                "CREATE TABLE tbl_1(\n",
                "    id INT PRIMARY KEY,\n",
                "    name VARCHAR(25) NULL,\n",
                "    cnic INT UNIQUE\n",
                ");"
            ],
            "metadata": {
                "azdata_cell_guid": "adf8e251-6468-403b-9f62-1adf339c2bf0"
            },
            "outputs": [],
            "execution_count": 1
        }
    ]
}