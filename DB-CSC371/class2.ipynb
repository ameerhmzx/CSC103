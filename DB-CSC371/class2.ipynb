{
    "metadata": {
        "kernelspec": {
            "name": "SQL",
            "display_name": "SQL",
            "language": "sql"
        },
        "language_info": {
            "name": "sql",
            "version": ""
        }
    },
    "nbformat_minor": 2,
    "nbformat": 4,
    "cells": [
        {
            "cell_type": "markdown",
            "source": [
                "# Class 2"
            ],
            "metadata": {
                "azdata_cell_guid": "21d8608f-74e9-419d-bb60-15540737acf9"
            }
        },
        {
            "cell_type": "markdown",
            "source": [
                "## Create Database"
            ],
            "metadata": {
                "azdata_cell_guid": "7880b835-b001-4468-a131-2e53c1bf5047"
            }
        },
        {
            "cell_type": "code",
            "source": [
                "CREATE DATABASE db_mydatabase;"
            ],
            "metadata": {
                "azdata_cell_guid": "97a61729-e0b3-45a2-b9f0-dab5561f2ea2"
            },
            "outputs": [],
            "execution_count": 0
        },
        {
            "cell_type": "markdown",
            "source": [
                "## Create Table"
            ],
            "metadata": {
                "azdata_cell_guid": "dfe649a1-bc2b-41e0-be80-4a09e995a5a8"
            }
        },
        {
            "cell_type": "code",
            "source": [
                "-- make sure you have selected correct db before executing this command\n",
                "-- or use 'USE db_mydatabase;' command to execute command in specific database\n",
                "CREATE TABLE tbl(\n",
                "    id INT NOT NULL,\n",
                "    name VARCHAR(20) NULL\n",
                ");"
            ],
            "metadata": {
                "azdata_cell_guid": "8748bd1b-ea3a-4766-90ad-24ef7daf82f0",
                "tags": []
            },
            "outputs": [
                {
                    "output_type": "display_data",
                    "data": {
                        "text/html": "Commands completed successfully."
                    },
                    "metadata": {}
                },
                {
                    "output_type": "display_data",
                    "data": {
                        "text/html": "Total execution time: 00:00:00.005"
                    },
                    "metadata": {}
                }
            ],
            "execution_count": 2
        },
        {
            "cell_type": "markdown",
            "source": [
                "## Insert Data in Table"
            ],
            "metadata": {
                "azdata_cell_guid": "0d433c68-f02a-4372-a7cd-c744486f8f7a"
            }
        },
        {
            "cell_type": "code",
            "source": [
                "INSERT INTO tbl VALUES(345, 'ALI');"
            ],
            "metadata": {
                "azdata_cell_guid": "1e2e4809-213a-4320-ada7-686c985c4363",
                "tags": []
            },
            "outputs": [
                {
                    "output_type": "display_data",
                    "data": {
                        "text/html": "(1 row affected)"
                    },
                    "metadata": {}
                },
                {
                    "output_type": "display_data",
                    "data": {
                        "text/html": "Total execution time: 00:00:00.006"
                    },
                    "metadata": {}
                }
            ],
            "execution_count": 3
        },
        {
            "cell_type": "markdown",
            "source": [
                "## Display data from Table"
            ],
            "metadata": {
                "azdata_cell_guid": "20529a16-44a1-4d96-8d98-7080b14cda58"
            }
        },
        {
            "cell_type": "code",
            "source": [
                "-- show all fields from table\n",
                "SELECT * FROM tbl;"
            ],
            "metadata": {
                "azdata_cell_guid": "1b680b0c-00e5-4b70-98bc-7d06ce00ef49"
            },
            "outputs": [
                {
                    "output_type": "display_data",
                    "data": {
                        "text/html": "(1 row affected)"
                    },
                    "metadata": {}
                },
                {
                    "output_type": "display_data",
                    "data": {
                        "text/html": "Total execution time: 00:00:00.124"
                    },
                    "metadata": {}
                },
                {
                    "output_type": "execute_result",
                    "execution_count": 4,
                    "data": {
                        "application/vnd.dataresource+json": {
                            "schema": {
                                "fields": [
                                    {
                                        "name": "id"
                                    },
                                    {
                                        "name": "name"
                                    }
                                ]
                            },
                            "data": [
                                {
                                    "0": "345",
                                    "1": "ALI"
                                }
                            ]
                        },
                        "text/html": "<table><tr><th>id</th><th>name</th></tr><tr><td>345</td><td>ALI</td></tr></table>"
                    },
                    "metadata": {}
                }
            ],
            "execution_count": 4
        },
        {
            "cell_type": "code",
            "source": [
                "-- show all id fields from tb1\n",
                "SELECT id FROM tbl;"
            ],
            "metadata": {
                "azdata_cell_guid": "e725f9d1-70c1-4983-a566-12c48d79fb1a",
                "tags": []
            },
            "outputs": [
                {
                    "output_type": "error",
                    "ename": "",
                    "evalue": "Msg 208, Level 16, State 1, Line 2\nInvalid object name 'tb1'.",
                    "traceback": []
                },
                {
                    "output_type": "display_data",
                    "data": {
                        "text/html": "Total execution time: 00:00:00.001"
                    },
                    "metadata": {}
                }
            ],
            "execution_count": 12
        },
        {
            "cell_type": "markdown",
            "source": [
                "## Alter Table and make 'id' Primary Key"
            ],
            "metadata": {
                "azdata_cell_guid": "722a797d-0f2a-4ff0-b746-91216c39b8c8"
            }
        },
        {
            "cell_type": "code",
            "source": [
                "ALTER TABLE tbl ADD CONSTRAINT pk_id PRIMARY KEY(id);"
            ],
            "metadata": {
                "azdata_cell_guid": "b9d46a63-51db-47e9-9990-bc6fd56f520e"
            },
            "outputs": [
                {
                    "output_type": "error",
                    "ename": "",
                    "evalue": "Msg 1779, Level 16, State 0, Line 1\nTable 'tb1' already has a primary key defined on it.",
                    "traceback": []
                },
                {
                    "output_type": "error",
                    "ename": "",
                    "evalue": "Msg 1750, Level 16, State 0, Line 1\nCould not create constraint or index. See previous errors.",
                    "traceback": []
                },
                {
                    "output_type": "display_data",
                    "data": {
                        "text/html": "Total execution time: 00:00:00.001"
                    },
                    "metadata": {}
                }
            ],
            "execution_count": 8
        },
        {
            "cell_type": "markdown",
            "source": [
                "## Delete all data from Table"
            ],
            "metadata": {
                "azdata_cell_guid": "e9125b32-e4b0-4c33-8dca-9afee6b0d84a"
            }
        },
        {
            "cell_type": "code",
            "source": [
                "TRUNCATE TABLE tbl;"
            ],
            "metadata": {
                "azdata_cell_guid": "da8ccd8f-0a98-4e42-9a54-3c95e9c80ffd"
            },
            "outputs": [
                {
                    "output_type": "error",
                    "ename": "",
                    "evalue": "Msg 4701, Level 16, State 1, Line 1\nCannot find the object \"tb1\" because it does not exist or you do not have permissions.",
                    "traceback": []
                },
                {
                    "output_type": "display_data",
                    "data": {
                        "text/html": "Total execution time: 00:00:00.001"
                    },
                    "metadata": {}
                }
            ],
            "execution_count": 11
        },
        {
            "cell_type": "markdown",
            "source": [
                "## Delete Table"
            ],
            "metadata": {
                "azdata_cell_guid": "81c0fe0c-2209-41de-921d-4e63fc053af2"
            }
        },
        {
            "cell_type": "code",
            "source": [
                "DROP TABLE tbl;"
            ],
            "metadata": {
                "azdata_cell_guid": "cd48eae2-419a-4057-b937-8ec105b6f77e"
            },
            "outputs": [
                {
                    "output_type": "display_data",
                    "data": {
                        "text/html": "Commands completed successfully."
                    },
                    "metadata": {}
                },
                {
                    "output_type": "display_data",
                    "data": {
                        "text/html": "Total execution time: 00:00:00.006"
                    },
                    "metadata": {}
                }
            ],
            "execution_count": 9
        },
        {
            "cell_type": "markdown",
            "source": [
                "## Delete Database"
            ],
            "metadata": {
                "azdata_cell_guid": "a8754d56-c630-4d90-8520-94bc7c45606a"
            }
        },
        {
            "cell_type": "code",
            "source": [
                "-- before dropping database make sure it is not in use\n",
                "DROP DATABASE db_mydatabase;"
            ],
            "metadata": {
                "azdata_cell_guid": "8d98f724-8cc8-4f26-b239-c21b6800c069",
                "tags": []
            },
            "outputs": [
                {
                    "output_type": "error",
                    "ename": "",
                    "evalue": "Msg 3702, Level 16, State 3, Line 1\nCannot drop database \"db_mydatabase\" because it is currently in use.",
                    "traceback": []
                },
                {
                    "output_type": "display_data",
                    "data": {
                        "text/html": "Total execution time: 00:00:00.002"
                    },
                    "metadata": {}
                }
            ],
            "execution_count": 10
        },
        {
            "cell_type": "markdown",
            "source": [
                "## Rename Database"
            ],
            "metadata": {
                "azdata_cell_guid": "c3c99c22-7ac1-4b43-8e5e-0a0ae00a909e"
            }
        },
        {
            "cell_type": "code",
            "source": [
                "sp_renamedb 'db_mydatabas', 'new_database';"
            ],
            "metadata": {
                "azdata_cell_guid": "0a0f22cf-16b4-4e39-9832-ea46cc8a96f5"
            },
            "outputs": [
                {
                    "output_type": "display_data",
                    "data": {
                        "text/html": "Query was canceled by user"
                    },
                    "metadata": {}
                },
                {
                    "output_type": "display_data",
                    "data": {
                        "text/html": "Total execution time: 00:00:19.007"
                    },
                    "metadata": {}
                }
            ],
            "execution_count": 15
        },
        {
            "cell_type": "markdown",
            "source": [
                "## Rename Table"
            ],
            "metadata": {
                "azdata_cell_guid": "4cedef9a-15d0-4959-b860-416cde36f1e1"
            }
        },
        {
            "cell_type": "code",
            "source": [
                "sp_rename 'dbo.tbl', 'newTableName';"
            ],
            "metadata": {
                "azdata_cell_guid": "7002df81-c160-4681-850e-48eb970a769e"
            },
            "outputs": [],
            "execution_count": 0
        }
    ]
}