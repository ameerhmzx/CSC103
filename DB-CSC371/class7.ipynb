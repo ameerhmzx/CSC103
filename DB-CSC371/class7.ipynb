{
    "metadata": {
        "kernelspec": {
            "name": "SQL",
            "display_name": "SQL",
            "language": "sql"
        },
        "language_info": {
            "name": "sql",
            "version": ""
        }
    },
    "nbformat_minor": 2,
    "nbformat": 4,
    "cells": [
        {
            "cell_type": "markdown",
            "source": [
                "# Class 7"
            ],
            "metadata": {
                "azdata_cell_guid": "5c129059-498c-42ab-a58a-3ee35b3c10f7"
            }
        },
        {
            "cell_type": "markdown",
            "source": [
                "## Aggregate Functions\n",
                "only returns one output and can only be used with `SELECT` "
            ],
            "metadata": {
                "azdata_cell_guid": "0aae664a-2af3-4b74-afcd-94323af474c2"
            }
        },
        {
            "cell_type": "code",
            "source": [
                "SELECT SUM(unitPrice), SUM(ProductID) FROM Products;"
            ],
            "metadata": {
                "azdata_cell_guid": "f6af22e1-fa71-488f-821f-f4a82184b26f"
            },
            "outputs": [],
            "execution_count": 6
        },
        {
            "cell_type": "markdown",
            "source": [
                "other available Aggregate Functions\n",
                "* MIN( columnName )\n",
                "* MAX( columnName )\n",
                "* AVG( columnName )\n",
                "* COUNT( columnName )"
            ],
            "metadata": {
                "azdata_cell_guid": "9e8f8bd5-1467-43e5-b819-973f350a6207"
            }
        },
        {
            "cell_type": "markdown",
            "source": [
                "## Precedence Of SQL Query\n",
                "1. From\n",
                "2. Where\n",
                "3. Group By\n",
                "4. Having\n",
                "5. Select\n",
                "6. Order By"
            ],
            "metadata": {
                "azdata_cell_guid": "b8067d43-31ff-4b86-a6c6-5f5823487602"
            }
        },
        {
            "cell_type": "markdown",
            "source": [
                "## Group By"
            ],
            "metadata": {
                "azdata_cell_guid": "b92ac188-a4d2-46b2-b12b-91e5baa6121b"
            }
        },
        {
            "cell_type": "code",
            "source": [
                "SELECT City, MIN(BirthDate) FROM Employees GROUP BY City; "
            ],
            "metadata": {
                "azdata_cell_guid": "a9658f3e-c677-4b58-8a7f-366d0de07800"
            },
            "outputs": [],
            "execution_count": 0
        },
        {
            "cell_type": "markdown",
            "source": [
                "## Having"
            ],
            "metadata": {
                "azdata_cell_guid": "a709841f-c11b-48dc-b26b-4b569de71c6b"
            }
        },
        {
            "cell_type": "code",
            "source": [
                "SELECT City, MIN(BirthDate) AS BirthDate FROM Employees GROUP BY City HAVING City in ('Redmond', 'Seattle'); "
            ],
            "metadata": {
                "azdata_cell_guid": "f33871b8-602a-487c-8e99-01114f6aca4e"
            },
            "outputs": [],
            "execution_count": 0
        },
        {
            "cell_type": "markdown",
            "source": [
                "## Order By"
            ],
            "metadata": {
                "azdata_cell_guid": "ba63fa6b-6b47-4c37-bbb2-fdc7e5eee235"
            }
        },
        {
            "cell_type": "code",
            "source": [
                "SELECT City, MIN(BirthDate) AS BirthDate FROM Employees GROUP BY City ORDER BY BirthDate; "
            ],
            "metadata": {
                "azdata_cell_guid": "b3f6cc2d-0c75-43a4-a1d7-ee3e4778b962"
            },
            "outputs": [],
            "execution_count": 0
        }
    ]
}