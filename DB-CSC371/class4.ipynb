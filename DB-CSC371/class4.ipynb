{
    "metadata": {
        "kernelspec": {
            "name": "SQL",
            "display_name": "SQL",
            "language": "sql"
        },
        "language_info": {
            "name": "sql",
            "version": ""
        }
    },
    "nbformat_minor": 2,
    "nbformat": 4,
    "cells": [
        {
            "cell_type": "markdown",
            "source": [
                "# Class 4 "
            ],
            "metadata": {
                "azdata_cell_guid": "48fdde3a-1ed3-4356-80ba-77c75a049b3a"
            }
        },
        {
            "cell_type": "markdown",
            "source": [
                "## One To Many Relationship"
            ],
            "metadata": {
                "azdata_cell_guid": "d071e0b6-b38a-4065-b967-f26e130d8ac7"
            }
        },
        {
            "cell_type": "markdown",
            "source": [
                "### Create Sample Database And Tables"
            ],
            "metadata": {
                "azdata_cell_guid": "7390d655-9f3a-4baa-934a-b74a1a4ff3e0"
            }
        },
        {
            "cell_type": "code",
            "source": [
                "CREATE DATABASE db_lab4;\n",
                "CREATE TABLE tbl_customer(\n",
                "    [id] INT NOT NULL PRIMARY KEY,\n",
                "    [name] VARCHAR(25) NULL\n",
                ");\n",
                "CREATE TABLE tbl_order(\n",
                "    [id] INT NOT NULL PRIMARY KEY,\n",
                "    [quantity] INT NOT NULL,\n",
                "    [p_id] INT NOT NULL,\n",
                "    [c_id] INT NOT NULL\n",
                ");"
            ],
            "metadata": {
                "azdata_cell_guid": "d073b8e1-119d-4f1c-b979-27d2f2f3ebc0",
                "tags": []
            },
            "outputs": [],
            "execution_count": 5
        },
        {
            "cell_type": "markdown",
            "source": [
                "### Add Foreign Key to c_id"
            ],
            "metadata": {
                "azdata_cell_guid": "576ce796-3337-412c-aa81-4548c6e75db6"
            }
        },
        {
            "cell_type": "code",
            "source": [
                "ALTER TABLE tbl_order\n",
                "ADD CONSTRAINT fk_customer\n",
                "FOREIGN KEY(c_id) REFERENCES tbl_customer(id);"
            ],
            "metadata": {
                "azdata_cell_guid": "c7445339-03b7-4dc9-ac30-b64c48ddcd72"
            },
            "outputs": [],
            "execution_count": 6
        },
        {
            "cell_type": "markdown",
            "source": [
                "### Insert Sample Data in tables"
            ],
            "metadata": {
                "azdata_cell_guid": "c9f7e08d-44cb-407b-92ec-d52d2aa8df21"
            }
        },
        {
            "cell_type": "markdown",
            "source": [
                "#### Adding Sample Data to Customer's Table"
            ],
            "metadata": {
                "azdata_cell_guid": "4c838ee2-df46-4de9-a2a8-f16e670ec0e9"
            }
        },
        {
            "cell_type": "code",
            "source": [
                "INSERT INTO tbl_customer VALUES(1, 'Ali');\n",
                "INSERT INTO tbl_customer VALUES(2, 'Ahmad');\n",
                "INSERT INTO tbl_customer VALUES(3, 'Abdullah');\n",
                "INSERT INTO tbl_customer VALUES(4, 'Ibtasham');"
            ],
            "metadata": {
                "azdata_cell_guid": "e9753a0d-5c2d-41cb-9bae-63c6a134c409"
            },
            "outputs": [],
            "execution_count": 7
        },
        {
            "cell_type": "markdown",
            "source": [
                "#### Adding Sample data to Order's Table"
            ],
            "metadata": {
                "azdata_cell_guid": "56fe9ce7-ab55-4913-adaf-961538a8cbee"
            }
        },
        {
            "cell_type": "code",
            "source": [
                "INSERT INTO tbl_order VALUES(1, 2, 3, 1);\n",
                "INSERT INTO tbl_order VALUES(2, 2, 3, 2);\n",
                "INSERT INTO tbl_order VALUES(3, 2, 3, 2);\n",
                "INSERT INTO tbl_order VALUES(4, 2, 3, 4);"
            ],
            "metadata": {
                "azdata_cell_guid": "304d0b08-3570-47c2-b8ae-df67e28b9f65",
                "tags": []
            },
            "outputs": [],
            "execution_count": 8
        },
        {
            "cell_type": "markdown",
            "source": [
                "### Reading Data"
            ],
            "metadata": {
                "azdata_cell_guid": "d2c386a2-7dbf-4e44-bdec-ce5e5b87d1bb"
            }
        },
        {
            "cell_type": "code",
            "source": [
                "SELECT * FROM tbl_customer;\n",
                "SELECT * FROM tbl_order;"
            ],
            "metadata": {
                "azdata_cell_guid": "6ca01cb9-0368-4ffe-9c57-0c6e6d0ffe0c"
            },
            "outputs": [],
            "execution_count": 9
        },
        {
            "cell_type": "markdown",
            "source": [
                "## Many to Many Relationship"
            ],
            "metadata": {
                "azdata_cell_guid": "82402365-71d1-4663-b9dc-170a905431c6"
            }
        },
        {
            "cell_type": "markdown",
            "source": [
                "### Create sample tables"
            ],
            "metadata": {
                "azdata_cell_guid": "bd763754-cdb9-4468-a45f-b443cd4ff3ed"
            }
        },
        {
            "cell_type": "code",
            "source": [
                "CREATE TABLE tbl_teacher(\n",
                "    [id] INT NOT NULL PRIMARY KEY,\n",
                "    [name] VARCHAR(25) NULL,\n",
                ");\n",
                "CREATE TABLE tbl_student(\n",
                "    [id] INT NOT NULL PRIMARY KEY,\n",
                "    [name] VARCHAR(25) NULL\n",
                ");\n",
                "-- Relation Table\n",
                "CREATE TABLE teacher_student(\n",
                "    [t_id] INT NOT NULL FOREIGN KEY REFERENCES tbl_teacher(id),\n",
                "    [s_id] INT NOT NULL FOREIGN KEY REFERENCES tbl_student(id),\n",
                ");"
            ],
            "metadata": {
                "azdata_cell_guid": "3e41f749-df3e-41c3-baa9-313a1905a3a0"
            },
            "outputs": [],
            "execution_count": 10
        },
        {
            "cell_type": "markdown",
            "source": [
                "### Insert Sample Data"
            ],
            "metadata": {
                "azdata_cell_guid": "6db516fd-388a-447f-a9ee-146d1799f589"
            }
        },
        {
            "cell_type": "code",
            "source": [
                "INSERT INTO tbl_teacher VALUES (\n",
                "    (1, 'ali'),\n",
                "    (2, 'ahmad')\n",
                ");"
            ],
            "metadata": {
                "azdata_cell_guid": "6d16f5df-60f3-41ec-80e4-18cda9889f00",
                "tags": []
            },
            "outputs": [],
            "execution_count": 0
        }
    ]
}