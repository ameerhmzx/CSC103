{
    "metadata": {
        "kernelspec": {
            "name": "SQL",
            "display_name": "SQL",
            "language": "sql"
        },
        "language_info": {
            "name": "sql",
            "version": ""
        }
    },
    "nbformat_minor": 2,
    "nbformat": 4,
    "cells": [
        {
            "cell_type": "markdown",
            "source": [
                "# Class 5"
            ],
            "metadata": {
                "azdata_cell_guid": "259b50c2-1749-4614-8370-56e6e195c530"
            }
        },
        {
            "cell_type": "markdown",
            "source": [
                "## Try to Delete Recort from One to many / Many to many Relation "
            ],
            "metadata": {
                "azdata_cell_guid": "21526361-486f-4288-bf83-a0713b213ccc"
            }
        },
        {
            "cell_type": "code",
            "source": [
                "-- note the error is because of the applied foreign key in tbl_order\n",
                "DELETE FROM tbl_customer WHERE id = 2;"
            ],
            "metadata": {
                "azdata_cell_guid": "27670ef7-e2e2-4f0c-bbe1-342e4dafeb3b"
            },
            "outputs": [
                {
                    "output_type": "error",
                    "ename": "",
                    "evalue": "Msg 547, Level 16, State 0, Line 1\nThe DELETE statement conflicted with the REFERENCE constraint \"fk_customer\". The conflict occurred in database \"db_lab4\", table \"dbo.tbl_order\", column 'c_id'.",
                    "traceback": []
                },
                {
                    "output_type": "display_data",
                    "data": {
                        "text/html": "The statement has been terminated."
                    },
                    "metadata": {}
                },
                {
                    "output_type": "display_data",
                    "data": {
                        "text/html": "Total execution time: 00:00:00.042"
                    },
                    "metadata": {}
                }
            ],
            "execution_count": 1
        },
        {
            "cell_type": "markdown",
            "source": [
                "## To delete other references on delete operation (CASCADE)"
            ],
            "metadata": {
                "azdata_cell_guid": "a091aa0b-f6eb-45e8-bd8b-6cc7fb95aece"
            }
        },
        {
            "cell_type": "code",
            "source": [
                "ALTER TABLE tbl_order\n",
                "ALTER CONSTRAINT fk_customer\n",
                "-- TODO: add"
            ],
            "metadata": {
                "azdata_cell_guid": "af84cdd8-8433-473e-ba72-f17a65fadd81"
            },
            "outputs": [],
            "execution_count": 0
        },
        {
            "cell_type": "markdown",
            "source": [
                "# One To One Relationship"
            ],
            "metadata": {
                "azdata_cell_guid": "35431137-33f9-4350-9eee-df858741ea46"
            }
        },
        {
            "cell_type": "markdown",
            "source": [
                "## Create Sample Tables"
            ],
            "metadata": {
                "azdata_cell_guid": "f4b69ea7-ce1b-4847-878d-4284052a8720"
            }
        },
        {
            "cell_type": "code",
            "source": [
                "-- TODO @nmanumr: "
            ],
            "metadata": {
                "azdata_cell_guid": "56717120-0946-4e3a-a9f5-0eff59f3a586"
            },
            "outputs": [],
            "execution_count": 0
        }
    ]
}